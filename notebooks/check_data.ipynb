{
 "cells": [
  {
   "cell_type": "code",
   "execution_count": 252,
   "id": "a1b50555",
   "metadata": {},
   "outputs": [
    {
     "name": "stderr",
     "output_type": "stream",
     "text": [
      "/var/folders/ww/wjp3pnms1kzc2pfzj0tyl6zr0000gn/T/ipykernel_60866/2530470467.py:5: DtypeWarning: Columns (33,38,39,41,42,55,56,65) have mixed types. Specify dtype option on import or set low_memory=False.\n",
      "  data_df = pd.read_csv(CLEAN_PATH)\n"
     ]
    }
   ],
   "source": [
    "from lnb_hakatons import PROJECT_DIR\n",
    "import pandas as pd\n",
    "\n",
    "CLEAN_PATH = PROJECT_DIR / \"data/cleaned/recenzijas_clean.csv\"\n",
    "data_df = pd.read_csv(CLEAN_PATH)"
   ]
  }
 ],
 "metadata": {
  "language_info": {
   "name": "python"
  }
 },
 "nbformat": 4,
 "nbformat_minor": 5
}
